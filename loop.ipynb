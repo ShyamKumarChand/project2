{
 "cells": [
  {
   "cell_type": "code",
   "execution_count": 1,
   "metadata": {},
   "outputs": [
    {
     "name": "stdout",
     "output_type": "stream",
     "text": [
      "1982\n",
      "1980\n",
      "1973\n"
     ]
    }
   ],
   "source": [
    "dates = [1982,1980,1973]  # List Data Structure\n",
    "N = len(dates)  # N = 3\n",
    "\n",
    "for i in range(N):\n",
    "    print(dates[i])"
   ]
  },
  {
   "cell_type": "code",
   "execution_count": 2,
   "metadata": {},
   "outputs": [
    {
     "data": {
      "text/plain": [
       "1973"
      ]
     },
     "execution_count": 2,
     "metadata": {},
     "output_type": "execute_result"
    }
   ],
   "source": [
    "dates[i]"
   ]
  },
  {
   "cell_type": "code",
   "execution_count": 3,
   "metadata": {},
   "outputs": [
    {
     "name": "stdout",
     "output_type": "stream",
     "text": [
      "0\n",
      "1\n",
      "2\n",
      "3\n",
      "4\n",
      "5\n",
      "6\n",
      "7\n"
     ]
    }
   ],
   "source": [
    "for i in range(0, 8):\n",
    "    print(i)"
   ]
  },
  {
   "cell_type": "code",
   "execution_count": 5,
   "metadata": {},
   "outputs": [
    {
     "name": "stdout",
     "output_type": "stream",
     "text": [
      "(0, 1982)\n",
      "(1, 1980)\n",
      "(2, 1973)\n"
     ]
    }
   ],
   "source": [
    "for ind in enumerate(dates):\n",
    "    print(ind)"
   ]
  },
  {
   "cell_type": "code",
   "execution_count": 6,
   "metadata": {},
   "outputs": [
    {
     "name": "stdout",
     "output_type": "stream",
     "text": [
      "1982\n",
      "1980\n",
      "1973\n"
     ]
    }
   ],
   "source": [
    "for year in dates:  \n",
    "    print(year)"
   ]
  },
  {
   "cell_type": "code",
   "execution_count": 10,
   "metadata": {},
   "outputs": [
    {
     "name": "stdout",
     "output_type": "stream",
     "text": [
      "\n",
      "* \n",
      "* * \n",
      "* * * \n",
      "* * * * \n"
     ]
    }
   ],
   "source": [
    "for row in range(5):\n",
    "    for col in range(1,row+1):\n",
    "        print('*', end=' ')\n",
    "    print()"
   ]
  },
  {
   "cell_type": "code",
   "execution_count": 12,
   "metadata": {},
   "outputs": [
    {
     "name": "stdout",
     "output_type": "stream",
     "text": [
      "\n",
      "* \n",
      "* * \n",
      "* * * \n",
      "* * * * \n",
      "* * * * * \n",
      "* * * * * * \n",
      "* * * * * * * \n"
     ]
    }
   ],
   "source": [
    "for row in range(8):\n",
    "    for col in range(1,row+1):\n",
    "        print('*', end=' ')\n",
    "    print()"
   ]
  },
  {
   "cell_type": "code",
   "execution_count": 12,
   "metadata": {},
   "outputs": [
    {
     "name": "stdout",
     "output_type": "stream",
     "text": [
      "\n",
      "\n",
      "\n",
      "* \n",
      "* * \n"
     ]
    }
   ],
   "source": [
    "for row in range(5):\n",
    "    for col in range(1,row-1):\n",
    "        print('*', end=' ')\n",
    "    print()"
   ]
  },
  {
   "cell_type": "code",
   "execution_count": 4,
   "metadata": {},
   "outputs": [
    {
     "name": "stdout",
     "output_type": "stream",
     "text": [
      "\n",
      "\n",
      "* ***\n",
      "* **** ***\n",
      "* **** **** ***\n",
      "* **** **** **** ***\n",
      "* **** **** **** **** ***\n",
      "* **** **** **** **** **** ***\n"
     ]
    }
   ],
   "source": [
    "for row in range(8):\n",
    "    for col in range(1,row*1):\n",
    "        print(' ', end = '***')\n",
    "    print()"
   ]
  },
  {
   "cell_type": "code",
   "execution_count": 11,
   "metadata": {},
   "outputs": [
    {
     "name": "stdout",
     "output_type": "stream",
     "text": [
      "\n",
      "** \n",
      "** ** \n",
      "** ** ** \n",
      "** ** ** ** \n",
      "** ** ** ** ** \n",
      "** ** ** ** ** ** \n",
      "** ** ** ** ** ** ** \n"
     ]
    }
   ],
   "source": [
    "for row in range(8):\n",
    "    for col in range(1,row+1):\n",
    "        print('**', end=' ')\n",
    "    print()"
   ]
  },
  {
   "cell_type": "code",
   "execution_count": 12,
   "metadata": {},
   "outputs": [
    {
     "name": "stdout",
     "output_type": "stream",
     "text": [
      "*  *  *  *  *  \n",
      "*  *  *  *  \n",
      "*  *  *  \n",
      "*  *  \n",
      "*  \n"
     ]
    }
   ],
   "source": [
    "for row in range(5,0,-1):\n",
    "    for col in range(row):\n",
    "        print('* ', end=' ')\n",
    "    print()"
   ]
  },
  {
   "cell_type": "code",
   "execution_count": 13,
   "metadata": {},
   "outputs": [
    {
     "name": "stdout",
     "output_type": "stream",
     "text": [
      "*  *  *  *  *  *  *  *  \n",
      "*  *  *  *  *  *  *  \n",
      "*  *  *  *  *  *  \n",
      "*  *  *  *  *  \n",
      "*  *  *  *  \n",
      "*  *  *  \n",
      "*  *  \n",
      "*  \n"
     ]
    }
   ],
   "source": [
    "for row in range(8,0,-1):\n",
    "    for col in range(row):\n",
    "        print('* ', end=' ')\n",
    "    print()"
   ]
  },
  {
   "cell_type": "code",
   "execution_count": 15,
   "metadata": {},
   "outputs": [],
   "source": [
    "for row in range(5,-1):\n",
    "    for col in range(row):\n",
    "        print('* ', end=' ')\n",
    "    print()"
   ]
  },
  {
   "cell_type": "code",
   "execution_count": 17,
   "metadata": {},
   "outputs": [],
   "source": [
    "for row in range(5,-1):\n",
    "    for col in range(row):\n",
    "        print('* ', end=' ')\n",
    "    print()"
   ]
  },
  {
   "cell_type": "code",
   "execution_count": 4,
   "metadata": {},
   "outputs": [
    {
     "name": "stdout",
     "output_type": "stream",
     "text": [
      "\n",
      "* \n",
      "* * \n",
      "* * * \n",
      "* * * * \n",
      "* * * * * \n",
      "* * * * * * \n",
      "* * * * * * * \n",
      "* * * * * * * * \n",
      "* * * * * * * \n",
      "* * * * * * \n",
      "* * * * * \n",
      "* * * * \n",
      "* * * \n",
      "* * \n",
      "* \n"
     ]
    }
   ],
   "source": [
    "for row in range(8):\n",
    "    for col in range(1,row+1):\n",
    "        print('*', end=' ')\n",
    "    print()\n",
    "for row in range(8):\n",
    "    for col in range(row-1,7):\n",
    "        print('*', end=' ')\n",
    "    print()"
   ]
  },
  {
   "cell_type": "code",
   "execution_count": 21,
   "metadata": {},
   "outputs": [
    {
     "name": "stdout",
     "output_type": "stream",
     "text": [
      "* * * * * * * * \n",
      "* * * * * * * \n",
      "* * * * * * \n",
      "* * * * * \n",
      "* * * * \n",
      "* * * \n",
      "* * \n",
      "* \n"
     ]
    }
   ],
   "source": [
    "for row in range(8,0,-1):\n",
    "    for col in range(1,row+1):\n",
    "        print('*', end=' ')\n",
    "    print()"
   ]
  },
  {
   "cell_type": "code",
   "execution_count": 3,
   "metadata": {},
   "outputs": [
    {
     "name": "stdout",
     "output_type": "stream",
     "text": [
      "* * * * * * \n",
      "* * * * * \n",
      "* * * * \n",
      "* * * \n",
      "* * \n",
      "* \n"
     ]
    }
   ],
   "source": [
    "for row in range(6):\n",
    "    for col in range(row-1,5):\n",
    "        print('*', end=' ')\n",
    "    print()"
   ]
  },
  {
   "cell_type": "code",
   "execution_count": null,
   "metadata": {},
   "outputs": [],
   "source": [
    "for row in range(8,0,-1):\n",
    "    for col in range(1,row+1):\n",
    "        print('*', end=' ')\n",
    "    print()"
   ]
  },
  {
   "cell_type": "code",
   "execution_count": 27,
   "metadata": {},
   "outputs": [
    {
     "name": "stdout",
     "output_type": "stream",
     "text": [
      "            *  \n",
      "           *  *  \n",
      "          *  *  *  \n",
      "         *  *  *  *  \n",
      "        *  *  *  *  *  \n",
      "       *  *  *  *  *  *  \n",
      "      *  *  *  *  *  *  *  \n"
     ]
    }
   ],
   "source": [
    "size = 7\n",
    "m = (2*size) -2\n",
    "for row in range(0,size):\n",
    "    for col in range(0,m):\n",
    "        print(end= ' ')\n",
    "    m = m-1\n",
    "    for col in range(0, row+1):\n",
    "        print('* ', end=' ')\n",
    "    print()"
   ]
  },
  {
   "cell_type": "code",
   "execution_count": 29,
   "metadata": {},
   "outputs": [
    {
     "name": "stdout",
     "output_type": "stream",
     "text": [
      "A  \n",
      "B C  \n",
      "D E F  \n",
      "G H I J  \n",
      "K L M N O  \n",
      "P Q R S T U  \n"
     ]
    }
   ],
   "source": [
    "lastNumber = 6\n",
    "asciiNumber = 65\n",
    "for row in range(0, lastNumber):\n",
    "    for col in range(0, row+1):\n",
    "        character  = chr(asciiNumber)\n",
    "        print(character, end=' ')\n",
    "        asciiNumber+=1\n",
    "    print(\" \")"
   ]
  },
  {
   "cell_type": "code",
   "execution_count": 10,
   "metadata": {},
   "outputs": [
    {
     "name": "stdout",
     "output_type": "stream",
     "text": [
      "        * \n",
      "      * * \n",
      "    * * * \n",
      "  * * * * \n",
      "* * * * * \n"
     ]
    }
   ],
   "source": [
    "# Python 3.x code to demonstrate star pattern \n",
    "\n",
    "# Function to demonstrate printing pattern \n",
    "def pypart2(n): \n",
    "\t\n",
    "\t# number of spaces \n",
    "\tk = 2*n - 2\n",
    "\n",
    "\t# outer loop to handle number of rows \n",
    "\tfor i in range(0, n): \n",
    "\t\n",
    "\t\t# inner loop to handle number spaces \n",
    "\t\t# values changing acc. to requirement \n",
    "\t\tfor j in range(0, k): \n",
    "\t\t\tprint(end=\" \") \n",
    "\t\n",
    "\t\t# decrementing k after each loop \n",
    "\t\tk = k - 2\n",
    "\t\n",
    "\t\t# inner loop to handle number of columns \n",
    "\t\t# values changing acc. to outer loop \n",
    "\t\tfor j in range(0, i+1): \n",
    "\t\t\n",
    "\t\t\t# printing stars \n",
    "\t\t\tprint(\"* \", end=\"\") \n",
    "\t\n",
    "\t\t# ending line after each row \n",
    "\t\tprint(\"\\r\") \n",
    "\n",
    "# Driver Code \n",
    "n = 5\n",
    "pypart2(n) \n"
   ]
  },
  {
   "cell_type": "code",
   "execution_count": 6,
   "metadata": {},
   "outputs": [
    {
     "name": "stdout",
     "output_type": "stream",
     "text": [
      "P\n",
      "Py\n",
      "Pyt\n",
      "Pyth\n",
      "Pytho\n",
      "Python\n"
     ]
    }
   ],
   "source": [
    "my_str = 'Python'\n",
    "x = 0\n",
    "for i in my_str:\n",
    "    x = x+1\n",
    "    print(my_str[0:x])"
   ]
  },
  {
   "cell_type": "code",
   "execution_count": 7,
   "metadata": {},
   "outputs": [
    {
     "name": "stdout",
     "output_type": "stream",
     "text": [
      "S\n",
      "Sh\n",
      "Shy\n",
      "Shya\n",
      "Shyam\n"
     ]
    }
   ],
   "source": [
    "my_str = 'Shyam'\n",
    "x = 0\n",
    "for i in my_str:\n",
    "    x = x+1\n",
    "    print(my_str[0:x])"
   ]
  },
  {
   "cell_type": "code",
   "execution_count": 8,
   "metadata": {},
   "outputs": [
    {
     "name": "stdout",
     "output_type": "stream",
     "text": [
      "0 1\n",
      "1 25\n",
      "2 144\n",
      "3 8281\n",
      "4 10404\n"
     ]
    }
   ],
   "source": [
    "my_list = [1, 5, 12, 91, 102]\n",
    "my_list_length = len(my_list)\n",
    "for i in range(0,my_list_length):\n",
    "    print(i,my_list[i]*my_list[i])"
   ]
  },
  {
   "cell_type": "code",
   "execution_count": 9,
   "metadata": {},
   "outputs": [
    {
     "name": "stdout",
     "output_type": "stream",
     "text": [
      "*           \n",
      "* *         \n",
      "*   *       \n",
      "*     *     \n",
      "*       *   \n",
      "* * * * * * \n"
     ]
    }
   ],
   "source": [
    "for row in range(6):\n",
    "    for col in range(6):\n",
    "        if col == 0 or row==5 or row ==col:\n",
    "            print('*',end = ' ')\n",
    "        else:\n",
    "            print(' ',end = ' ')\n",
    "    print()"
   ]
  },
  {
   "cell_type": "code",
   "execution_count": 10,
   "metadata": {},
   "outputs": [
    {
     "name": "stdout",
     "output_type": "stream",
     "text": [
      "Before square  0 is red\n",
      "After square  0 is weight\n",
      "Before square  1 is yellow\n",
      "After square  1 is weight\n",
      "Before square  2 is green\n",
      "After square  2 is weight\n",
      "Before square  3 is purple\n",
      "After square  3 is weight\n",
      "Before square  4 is blue\n",
      "After square  4 is weight\n",
      "['weight', 'weight', 'weight', 'weight', 'weight']\n"
     ]
    }
   ],
   "source": [
    "squares = ['red', 'yellow', 'green', 'purple', 'blue']\n",
    "\n",
    "for i in range(0, 5):\n",
    "    print(\"Before square \", i, 'is',  squares[i])\n",
    "    \n",
    "    squares[i] = 'weight'\n",
    "    print(\"After square \", i, 'is',  squares[i])\n",
    "print(squares)"
   ]
  },
  {
   "cell_type": "code",
   "execution_count": 11,
   "metadata": {},
   "outputs": [
    {
     "data": {
      "text/plain": [
       "['weight', 'weight', 'weight', 'weight', 'weight']"
      ]
     },
     "execution_count": 11,
     "metadata": {},
     "output_type": "execute_result"
    }
   ],
   "source": [
    "squares"
   ]
  },
  {
   "cell_type": "code",
   "execution_count": 12,
   "metadata": {},
   "outputs": [
    {
     "name": "stdout",
     "output_type": "stream",
     "text": [
      "0 red\n",
      "1 yellow\n",
      "2 green\n",
      "3 purple\n",
      "4 blue\n"
     ]
    }
   ],
   "source": [
    "squares=['red', 'yellow', 'green', 'purple', 'blue']\n",
    "\n",
    "for i, square in enumerate(squares):\n",
    "    print(i, square)"
   ]
  },
  {
   "cell_type": "code",
   "execution_count": 13,
   "metadata": {},
   "outputs": [
    {
     "name": "stdout",
     "output_type": "stream",
     "text": [
      "blue\n"
     ]
    }
   ],
   "source": [
    "for i in squares:\n",
    "    pass\n",
    "print(i)\n"
   ]
  },
  {
   "cell_type": "code",
   "execution_count": 15,
   "metadata": {},
   "outputs": [
    {
     "name": "stdout",
     "output_type": "stream",
     "text": [
      "*         \n",
      "*         \n",
      "*         \n",
      "*         \n",
      "*         \n",
      "* * * * * \n"
     ]
    }
   ],
   "source": [
    "for row in range(6):\n",
    "    for col in range(5):\n",
    "        if col==0 or row==5:\n",
    "            print(\"*\",end=' ')\n",
    "        else:\n",
    "            print(\" \",end=' ')\n",
    "    print()\n"
   ]
  },
  {
   "cell_type": "code",
   "execution_count": 16,
   "metadata": {},
   "outputs": [
    {
     "name": "stdout",
     "output_type": "stream",
     "text": [
      "  * *   * *   \n",
      "*     *     * \n",
      "*           * \n",
      "  *       *   \n",
      "    *   *     \n",
      "      *       \n"
     ]
    }
   ],
   "source": [
    "for row in range(6):\n",
    "    for col in range(7):\n",
    "        if (row==0 and col%3!=0)or (row==1 and col%3==0)or(row-col==2)or(row+col==8):\n",
    "            print(\"*\",end=' ')\n",
    "        else:\n",
    "            print(\" \",end=' ')\n",
    "    print()\n"
   ]
  },
  {
   "cell_type": "code",
   "execution_count": 17,
   "metadata": {},
   "outputs": [
    {
     "name": "stdout",
     "output_type": "stream",
     "text": [
      "@ @ @ @ @     @                                   \n",
      "@     @ @     @                                   \n",
      "@ @ @ @ @     @                                   \n",
      "@ @     @     @                                   \n",
      "@   @ @ @     @                                   \n"
     ]
    }
   ],
   "source": [
    "for row in range(5):\n",
    "    for col in range(25):\n",
    "        if(row==0 and col<=3)or(col==0)or(row==2 and col <=3)or(col==3 and row%3!=0)or(row-col==2)or(col==4)or(col==7)or(row==8):\n",
    "            print('@',end = ' ')\n",
    "        else:\n",
    "            print(' ', end=' ')\n",
    "    print()\n"
   ]
  },
  {
   "cell_type": "code",
   "execution_count": 1,
   "metadata": {},
   "outputs": [
    {
     "name": "stdout",
     "output_type": "stream",
     "text": [
      " *** \n",
      "*   *\n",
      "*   *\n",
      "*****\n",
      "*   *\n",
      "*   *\n",
      "*   *\n"
     ]
    }
   ],
   "source": [
    "   for row in range(7):\n",
    "    for col in range(5):\n",
    "        if ((col==0 or col==4) and row!=0) or ((row==0 or row==3)and (col>0 and col<4)):\n",
    "            print(\"*\",end=\"\")\n",
    "        else:\n",
    "            print(end=\" \")\n",
    "    print()\n"
   ]
  },
  {
   "cell_type": "code",
   "execution_count": 2,
   "metadata": {},
   "outputs": [
    {
     "name": "stdout",
     "output_type": "stream",
     "text": [
      "*****\n",
      "*   *\n",
      "*   *\n",
      "*****\n",
      "*   *\n",
      "*   *\n",
      "*****\n"
     ]
    }
   ],
   "source": [
    "for row in range(7):\n",
    "    for col in range(5):\n",
    "        if (col==0 or col==4) or ((row==0 or row==3 or row==6)and (col>0 and col<4)):\n",
    "            print(\"*\",end=\"\")\n",
    "        else:\n",
    "            print(end=\" \")\n",
    "    print()\n"
   ]
  },
  {
   "cell_type": "code",
   "execution_count": 23,
   "metadata": {},
   "outputs": [
    {
     "name": "stdout",
     "output_type": "stream",
     "text": [
      "* * * * * \n",
      "*     \n",
      "*     \n",
      "*     \n",
      "*     \n",
      "*     \n",
      "* * * * * \n"
     ]
    }
   ],
   "source": [
    "for row in range(7):    \n",
    "    for col in range(5):     \n",
    "        if (col == 0) or ((row==0 or row==6) and (col > 0)):\n",
    "            print('*',end = ' ') \n",
    "        else:      \n",
    "             print(end=' ')  \n",
    "    print()"
   ]
  },
  {
   "cell_type": "code",
   "execution_count": 9,
   "metadata": {},
   "outputs": [
    {
     "name": "stdout",
     "output_type": "stream",
     "text": [
      "  * * * *     \n",
      "  *       *   \n",
      "  *       *   \n",
      "  *       *   \n",
      "  *       *   \n",
      "  *       *   \n",
      "  * * * *     \n"
     ]
    }
   ],
   "source": [
    "for row in range(7):    \n",
    "    for column in range(7):     \n",
    "        if (column == 1 or ((row == 0 or row == 6) and (column > 1 and column < 5)) or (column == 5 and row != 0 and row != 6)):  \n",
    "            print('*',end = ' ')   \n",
    "        else:      \n",
    "            print(' ', end=' ')    \n",
    "    print()"
   ]
  },
  {
   "cell_type": "code",
   "execution_count": 10,
   "metadata": {},
   "outputs": [
    {
     "name": "stdout",
     "output_type": "stream",
     "text": [
      "  * * * * *   \n",
      "  *           \n",
      "  *           \n",
      "  * * * *     \n",
      "  *           \n",
      "  *           \n",
      "  * * * * *   \n"
     ]
    }
   ],
   "source": [
    "for row in range(7):    \n",
    "    for column in range(7):     \n",
    "        if (column == 1 or ((row == 0 or row == 6) and (column > 1 and column < 6)) or (row == 3 and column > 1 and column < 5)):  \n",
    "            print('*',end = ' ')   \n",
    "        else:      \n",
    "            print(' ', end=' ')    \n",
    "    print()"
   ]
  },
  {
   "cell_type": "code",
   "execution_count": 18,
   "metadata": {},
   "outputs": [
    {
     "name": "stdout",
     "output_type": "stream",
     "text": [
      "  * * * * *   \n",
      "  *           \n",
      "  *           \n",
      "  * * * *     \n",
      "  *           \n",
      "  *           \n",
      "  *           \n"
     ]
    }
   ],
   "source": [
    "for row in range(7):    \n",
    "    for column in range(7):\n",
    "        if (column == 1 or (row == 0 and column > 1 and column < 6) or (row == 3 and column > 1 and column < 5)):\n",
    "            print('*',end = ' ')   \n",
    "        else:      \n",
    "            print(' ', end=' ')    \n",
    "    print()"
   ]
  },
  {
   "cell_type": "code",
   "execution_count": 12,
   "metadata": {},
   "outputs": [
    {
     "name": "stdout",
     "output_type": "stream",
     "text": [
      "    * * *     \n",
      "  *       *   \n",
      "  *           \n",
      "  *   * * *   \n",
      "  *       *   \n",
      "  *       *   \n",
      "    * * *     \n"
     ]
    }
   ],
   "source": [
    "for row in range(7):    \n",
    "    for column in range(7):     \n",
    "        if ((column == 1 and row != 0 and row != 6) or ((row == 0 or row == 6) and column > 1 and column < 5) or (row == 3 and column > 2 and column < 6) or (column == 5 and row != 0 and row != 2 and row != 6)):  \n",
    "            print('*', end=' ')    \n",
    "        else:      \n",
    "            print(' ', end=' ')   \n",
    "    print()"
   ]
  },
  {
   "cell_type": "code",
   "execution_count": 13,
   "metadata": {},
   "outputs": [
    {
     "name": "stdout",
     "output_type": "stream",
     "text": [
      "    * * * *   \n",
      "  *           \n",
      "  *           \n",
      "    * * *     \n",
      "          *   \n",
      "          *   \n",
      "  * * * *     \n"
     ]
    }
   ],
   "source": [
    "for row in range(7):    \n",
    "    for column in range(7):     \n",
    "        if (((row == 0 or row == 3 or row == 6) and column > 1 and column < 5) or (column == 1 and (row == 1 or row == 2 or row == 6)) or (column == 5 and (row == 0 or row == 4 or row == 5))):  \n",
    "              print('*', end=' ')    \n",
    "        else:      \n",
    "            print(' ', end=' ')   \n",
    "    print()"
   ]
  },
  {
   "cell_type": "code",
   "execution_count": 14,
   "metadata": {},
   "outputs": [
    {
     "name": "stdout",
     "output_type": "stream",
     "text": [
      "  * * * *     \n",
      "  *       *   \n",
      "  *       *   \n",
      "  * * * *     \n",
      "  *           \n",
      "  *           \n",
      "  *           \n"
     ]
    }
   ],
   "source": [
    "for row in range(7):    \n",
    "    for column in range(7):     \n",
    "        if (column == 1 or ((row == 0 or row == 3) and column > 0 and column < 5) or ((column == 5 or column == 1) and (row == 1 or row == 2))):  \n",
    "            print('*', end=' ')    \n",
    "        else:      \n",
    "            print(' ', end=' ')   \n",
    "    print()"
   ]
  },
  {
   "cell_type": "code",
   "execution_count": 15,
   "metadata": {},
   "outputs": [
    {
     "name": "stdout",
     "output_type": "stream",
     "text": [
      "  * * * * *   \n",
      "      *       \n",
      "      *       \n",
      "      *       \n",
      "      *       \n",
      "      *       \n",
      "      *       \n"
     ]
    }
   ],
   "source": [
    "for row in range(7):    \n",
    "    for column in range(7):     \n",
    "        if (column == 3 or (row == 0 and column > 0 and column <6)):  \n",
    "            print('*', end=' ')    \n",
    "        else:      \n",
    "            print(' ', end=' ')   \n",
    "    print()"
   ]
  },
  {
   "cell_type": "code",
   "execution_count": 16,
   "metadata": {},
   "outputs": [
    {
     "name": "stdout",
     "output_type": "stream",
     "text": [
      "    * * *     \n",
      "  *       *   \n",
      "  *       *   \n",
      "  *       *   \n",
      "  *       *   \n",
      "  *       *   \n",
      "    * * *     \n"
     ]
    }
   ],
   "source": [
    "for row in range(7):    \n",
    "    for column in range(7):     \n",
    "        if (((column == 1 or column == 5) and row != 0 and row != 6) or ((row == 0 or row == 6) and column > 1 and column < 5)):  \n",
    "             print('*', end=' ')    \n",
    "        else:      \n",
    "            print(' ', end=' ')   \n",
    "    print() "
   ]
  },
  {
   "cell_type": "code",
   "execution_count": 24,
   "metadata": {},
   "outputs": [
    {
     "name": "stdin",
     "output_type": "stream",
     "text": [
      "Enter the value of n: 7\n"
     ]
    },
    {
     "name": "stdout",
     "output_type": "stream",
     "text": [
      "The diamond star pattern is as follows:\n",
      "     * * \n",
      "    * * * \n",
      "   * * * * \n",
      "  * * * * * \n",
      " * * * * * * \n",
      "* * * * * * * \n",
      "* * * * * * * * \n",
      " * * * * * * \n",
      "  * * * * * \n",
      "   * * * * \n",
      "    * * * \n",
      "     * * \n",
      "      * \n"
     ]
    }
   ],
   "source": [
    "n=int(input(\"Enter the value of n:\"))\n",
    "print(\"The diamond star pattern is as follows:\")\n",
    "for i in range(1,n+1):\n",
    "    print(' '*(n-i-1)+'* '*(i+1))\n",
    "for i in range(n-1):\n",
    "    print(' '*(i+1)+'* '*(n-i-1))\n"
   ]
  },
  {
   "cell_type": "code",
   "execution_count": 3,
   "metadata": {},
   "outputs": [
    {
     "name": "stdout",
     "output_type": "stream",
     "text": [
      "  *       *   \n",
      "  *       *   \n",
      "  *       *   \n",
      "  * * * * *   \n",
      "  *       *   \n",
      "  *       *   \n",
      "  *       *   \n"
     ]
    }
   ],
   "source": [
    "for row in range(7):    \n",
    "    for column in range(7):     \n",
    "        if ((column == 1 or column == 5) or (row == 3 and column > 1 and column < 5)):\n",
    "            print('*', end=' ')    \n",
    "        else:      \n",
    "            print(' ', end=' ')   \n",
    "    print() "
   ]
  },
  {
   "cell_type": "code",
   "execution_count": 25,
   "metadata": {},
   "outputs": [
    {
     "name": "stdout",
     "output_type": "stream",
     "text": [
      "A\n",
      "AB\n",
      "ABC\n",
      "ABCD\n",
      "ABCDE\n"
     ]
    }
   ],
   "source": [
    "for i in range (65,70):\n",
    "    # inner loop\n",
    "    for j in range(65,i+1):\n",
    "        print(chr(j),end=\"\")\n",
    "    print()"
   ]
  },
  {
   "cell_type": "code",
   "execution_count": 26,
   "metadata": {},
   "outputs": [
    {
     "name": "stdout",
     "output_type": "stream",
     "text": [
      "  *       *   \n",
      "  *       *   \n",
      "  * *   * *   \n",
      "  *   *   *   \n",
      "  *       *   \n",
      "  *       *   \n",
      "  *       *   \n"
     ]
    }
   ],
   "source": [
    "for row in range(0,7):    \n",
    "    for column in range(0,7):     \n",
    "        if (column == 1 or column == 5 or (row == 2 and (column == 2 or column == 4)) or (row == 3 and column == 3)):  \n",
    "            print('*', end=' ')    \n",
    "        else:      \n",
    "            print(' ', end=' ')   \n",
    "    print() "
   ]
  },
  {
   "cell_type": "code",
   "execution_count": 34,
   "metadata": {},
   "outputs": [
    {
     "name": "stdout",
     "output_type": "stream",
     "text": [
      "* * * * * \n",
      "    *     \n",
      "    *     \n",
      "    *     \n",
      "    *     \n",
      "    *     \n",
      "* * * * * \n"
     ]
    }
   ],
   "source": [
    "for row in range(7):    \n",
    "    for col in range(5):     \n",
    "        if col == 2 or ((row==0 or row==6) and col!=2):\n",
    "            print('*', end=' ')    \n",
    "        else:      \n",
    "            print(' ', end=' ')   \n",
    "    print() "
   ]
  },
  {
   "cell_type": "code",
   "execution_count": 50,
   "metadata": {},
   "outputs": [
    {
     "name": "stdout",
     "output_type": "stream",
     "text": [
      "  *           \n",
      "  *           \n",
      "  *           \n",
      "  * *         \n",
      "  *   *       \n",
      "  *     *     \n",
      "  *       *   \n"
     ]
    }
   ],
   "source": [
    "for row in range(7):    \n",
    "    for col in range(7):     \n",
    "        if col == 1 or ((row == col + 1) and col != 0):\n",
    "            print('*', end=' ')    \n",
    "        else:      \n",
    "            print(' ', end=' ')   \n",
    "    print() "
   ]
  },
  {
   "cell_type": "code",
   "execution_count": 51,
   "metadata": {},
   "outputs": [
    {
     "name": "stdout",
     "output_type": "stream",
     "text": [
      "  * * * *     \n",
      "  *       *   \n",
      "  *       *   \n",
      "  * * * *     \n",
      "  *   *       \n",
      "  *     *     \n",
      "  *       *   \n"
     ]
    }
   ],
   "source": [
    "for row in range(7):    \n",
    "    for column in range(7):     \n",
    "        if (column == 1 or ((row == 0 or row == 3) and column > 1 and column < 5) or (column == 5 and row != 0 and row < 3) or (column == row - 1 and row > 2)):  \n",
    "            print('*', end=' ')    \n",
    "        else:      \n",
    "            print(' ', end=' ')   \n",
    "    print() "
   ]
  },
  {
   "cell_type": "code",
   "execution_count": 54,
   "metadata": {},
   "outputs": [
    {
     "name": "stdout",
     "output_type": "stream",
     "text": [
      "  *       *   \n",
      "  *       *   \n",
      "  *       *   \n",
      "  *       *   \n",
      "  *       *   \n",
      "  *       *   \n",
      "    * * *     \n"
     ]
    }
   ],
   "source": [
    "for row in range(7):    \n",
    "    for column in range(7):     \n",
    "        if (((column == 1 or column == 5) and row != 6) or (row == 6 and column > 1 and column < 5)):  \n",
    "              print('*', end=' ')    \n",
    "        else:      \n",
    "            print(' ', end=' ')   \n",
    "    print()  "
   ]
  },
  {
   "cell_type": "code",
   "execution_count": 53,
   "metadata": {},
   "outputs": [
    {
     "name": "stdout",
     "output_type": "stream",
     "text": [
      "  *       *   \n",
      "  *       *   \n",
      "    *   *     \n",
      "      *       \n",
      "    *   *     \n",
      "  *       *   \n",
      "  *       *   \n"
     ]
    }
   ],
   "source": [
    "for row in range(7):    \n",
    "    for column in range(7):     \n",
    "        if (((column == 1 or column == 5) and (row > 4 or row < 2)) or row == column and column > 0 and column < 6 or (column == 2 and row == 4) or (column == 4 and row == 2)):  \n",
    "              print('*', end=' ')    \n",
    "        else:      \n",
    "            print(' ', end=' ')   \n",
    "    print()  "
   ]
  },
  {
   "cell_type": "code",
   "execution_count": 55,
   "metadata": {},
   "outputs": [
    {
     "name": "stdout",
     "output_type": "stream",
     "text": [
      "*       *     \n",
      "  *   *       \n",
      "    *         \n",
      "    *         \n",
      "    *         \n",
      "    *         \n",
      "    *         \n"
     ]
    }
   ],
   "source": [
    "for row in range(7):    \n",
    "    for col in range(7):     \n",
    "        if(col==2 and row>1) or (row==col and col<2) or (row==0 and col==4) or (row==1 and col==3):\n",
    "            print('*', end=' ')    \n",
    "        else:      \n",
    "            print(' ', end=' ')   \n",
    "    print()  "
   ]
  },
  {
   "cell_type": "code",
   "execution_count": 57,
   "metadata": {},
   "outputs": [
    {
     "name": "stdout",
     "output_type": "stream",
     "text": [
      "* * * * * * * \n",
      "          *   \n",
      "        *     \n",
      "      *       \n",
      "    *         \n",
      "  *           \n",
      "* * * * * * * \n"
     ]
    }
   ],
   "source": [
    "for row in range(7):    \n",
    "    for column in range(7):     \n",
    "        if (((row == 0 or row == 6) and column >= 0 and column <= 6) or row+column==6):  \n",
    "              print('*', end=' ')    \n",
    "        else:      \n",
    "            print(' ', end=' ')   \n",
    "    print()  "
   ]
  },
  {
   "cell_type": "code",
   "execution_count": 62,
   "metadata": {},
   "outputs": [
    {
     "name": "stdout",
     "output_type": "stream",
     "text": [
      "*     * \n",
      " *   *  \n",
      "  * *   \n",
      "   *   \n"
     ]
    }
   ],
   "source": [
    "i = 0\n",
    "j = 6\n",
    "for row in range(4):\n",
    "    for col in range(7):\n",
    "        if row==col:\n",
    "            print('*',end='')\n",
    "        elif row == i and col == j:\n",
    "             print('*', end=' ')\n",
    "             i = i+1\n",
    "             j = j-1\n",
    "        else:      \n",
    "            print(end=' ')   \n",
    "    print() "
   ]
  },
  {
   "cell_type": "code",
   "execution_count": 63,
   "metadata": {},
   "outputs": [
    {
     "name": "stdout",
     "output_type": "stream",
     "text": [
      "* * * * * \n",
      "    *     \n",
      "    *     \n",
      "    *     \n",
      "    *     \n",
      "    *     \n",
      "* * *     \n"
     ]
    }
   ],
   "source": [
    "for row in range(7):    \n",
    "    for col in range(5):\n",
    "        if col == 2 or (row == 0 and col!=2) or (row == 6 and col<2):\n",
    "            print('*', end=' ')    \n",
    "        else:      \n",
    "            print(' ', end=' ')   \n",
    "    print()  "
   ]
  },
  {
   "cell_type": "code",
   "execution_count": 65,
   "metadata": {},
   "outputs": [
    {
     "name": "stdin",
     "output_type": "stream",
     "text": [
      "Enter the number of rows 5\n"
     ]
    },
    {
     "name": "stdout",
     "output_type": "stream",
     "text": [
      "    1 \n",
      "   2 1 2 \n",
      "  3 2 1 2 3 \n",
      " 4 3 2 1 2 3 4 \n",
      "5 4 3 2 1 2 3 4 5 \n"
     ]
    }
   ],
   "source": [
    "num = int(input(\"Enter the number of rows\"))\n",
    "for i in range(1,num+1):\n",
    "    for j in range(1,num-i+1):\n",
    "        print(end=' ')\n",
    "    for j in range(i,0,-1):\n",
    "        print(j,end=\" \")\n",
    "    for j in range(2,i+1):\n",
    "        print(j, end=\" \")\n",
    "    print()"
   ]
  },
  {
   "cell_type": "code",
   "execution_count": 4,
   "metadata": {},
   "outputs": [
    {
     "name": "stdout",
     "output_type": "stream",
     "text": [
      "*       * \n",
      "*       * \n",
      "*       * \n",
      "* * * * * \n",
      "*       * \n",
      "*       * \n"
     ]
    }
   ],
   "source": [
    "for row in range(6):\n",
    "   for col in range(5):\n",
    "       if row==3 or col==0 or col==4:\n",
    "           print('*',end=' ')\n",
    "       else:\n",
    "           print(' ',end=' ')\n",
    "   print()\n"
   ]
  },
  {
   "cell_type": "code",
   "execution_count": null,
   "metadata": {},
   "outputs": [],
   "source": [
    "       \n"
   ]
  },
  {
   "cell_type": "code",
   "execution_count": 13,
   "metadata": {},
   "outputs": [
    {
     "name": "stdin",
     "output_type": "stream",
     "text": [
      "Enter the number:  100\n"
     ]
    },
    {
     "name": "stdout",
     "output_type": "stream",
     "text": [
      "Multiplication Table of 100\n",
      "100 X 1 = 100\n",
      "100 X 2 = 200\n",
      "100 X 3 = 300\n",
      "100 X 4 = 400\n",
      "100 X 5 = 500\n",
      "100 X 6 = 600\n",
      "100 X 7 = 700\n",
      "100 X 8 = 800\n",
      "100 X 9 = 900\n",
      "100 X 10 = 1000\n"
     ]
    }
   ],
   "source": [
    "num = int(input(\"Enter the number: \"))\n",
    "\n",
    "print(\"Multiplication Table of\", num)\n",
    "for i in range(1, 11):\n",
    "   print(num,\"X\",i,\"=\",num * i)"
   ]
  },
  {
   "cell_type": "code",
   "execution_count": 17,
   "metadata": {},
   "outputs": [
    {
     "name": "stdin",
     "output_type": "stream",
     "text": [
      "Enter the number:  5\n"
     ]
    },
    {
     "name": "stdout",
     "output_type": "stream",
     "text": [
      "Multiplication Table of 5\n",
      "5 X 1 = 5\n",
      "6 X 2 = 12\n",
      "7 X 3 = 21\n",
      "8 X 4 = 32\n",
      "9 X 5 = 45\n",
      "10 X 6 = 60\n",
      "11 X 7 = 77\n",
      "12 X 8 = 96\n",
      "13 X 9 = 117\n"
     ]
    }
   ],
   "source": [
    "num = int(input(\"Enter the number: \"))\n",
    "print(\"Multiplication Table of\", num)\n",
    "for i in range(1,10):\n",
    "    print(num,\"X\",i,\"=\",num * i)\n",
    "    num+=1"
   ]
  },
  {
   "cell_type": "code",
   "execution_count": null,
   "metadata": {},
   "outputs": [],
   "source": []
  }
 ],
 "metadata": {
  "kernelspec": {
   "display_name": "Python 3",
   "language": "python",
   "name": "python3"
  },
  "language_info": {
   "codemirror_mode": {
    "name": "ipython",
    "version": 3
   },
   "file_extension": ".py",
   "mimetype": "text/x-python",
   "name": "python",
   "nbconvert_exporter": "python",
   "pygments_lexer": "ipython3",
   "version": "3.6.8"
  }
 },
 "nbformat": 4,
 "nbformat_minor": 4
}
